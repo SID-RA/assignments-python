{
 "cells": [
  {
   "cell_type": "markdown",
   "metadata": {},
   "source": [
    "# Q 1"
   ]
  },
  {
   "cell_type": "code",
   "execution_count": 19,
   "metadata": {},
   "outputs": [
    {
     "name": "stdout",
     "output_type": "stream",
     "text": [
      "Select operation.\n",
      "1.Add\n",
      "2.Subtract\n",
      "3.Multiply\n",
      "4.Divide\n",
      "Enter choice(1/2/3/4):3\n",
      "Enter first number: 2\n",
      "Enter second number: 3\n",
      "2 * 3 = 6\n"
     ]
    }
   ],
   "source": [
    "# define functions  \n",
    "def add(a, r):  \n",
    "#This function adds two numbers\n",
    "   return a + r \n",
    "def subtract(a, r): \n",
    "#This function subtracts two numbers\n",
    "   return a - r \n",
    "def multiply(a, r): \n",
    "#This function multiplies two numbers\n",
    "   return a * r \n",
    "def divide(a, r): \n",
    "#This function divides two numbers\"\"\"  \n",
    "   return a / r  \n",
    "# take input from the user  \n",
    "print(\"Select operation.\")  \n",
    "print(\"1.Add\")  \n",
    "print(\"2.Subtract\")  \n",
    "print(\"3.Multiply\")  \n",
    "print(\"4.Divide\")  \n",
    "  \n",
    "choice = input(\"Enter choice(1/2/3/4):\")  \n",
    "  \n",
    "num1 = int(input(\"Enter first number: \"))  \n",
    "num2 = int(input(\"Enter second number: \"))  \n",
    "  \n",
    "if choice == '1':  \n",
    "   print(num1,\"+\",num2,\"=\", add(num1,num2))  \n",
    "  \n",
    "elif choice == '2':  \n",
    "   print(num1,\"-\",num2,\"=\", subtract(num1,num2))  \n",
    "  \n",
    "elif choice == '3':  \n",
    "   print(num1,\"*\",num2,\"=\", multiply(num1,num2))  \n",
    "elif choice == '4':  \n",
    "   print(num1,\"/\",num2,\"=\", divide(num1,num2))  \n",
    "else:  \n",
    "   print(\"Invalid input Please try again\")  "
   ]
  },
  {
   "cell_type": "markdown",
   "metadata": {},
   "source": [
    "# Q 2"
   ]
  },
  {
   "cell_type": "code",
   "execution_count": 73,
   "metadata": {},
   "outputs": [
    {
     "name": "stdout",
     "output_type": "stream",
     "text": [
      "30 is a numeric Value in List\n",
      "20 is a numeric Value in List\n",
      "10.5 is a numeric Value in List\n"
     ]
    }
   ],
   "source": [
    "\n",
    "arr = ['Sidra','Saleem',30,20,True,10.5,'a','b']\n",
    "for i in arr:\n",
    "    if type(i) == int:\n",
    "        print(i,\"is a numeric Value in List\")\n",
    "    elif type(i) == float:\n",
    "        print(i,\"is a numeric Value in List\")"
   ]
  },
  {
   "cell_type": "markdown",
   "metadata": {},
   "source": [
    "# Q 3"
   ]
  },
  {
   "cell_type": "code",
   "execution_count": 42,
   "metadata": {},
   "outputs": [
    {
     "name": "stdout",
     "output_type": "stream",
     "text": [
      "Enter Key xyz\n",
      "Enter Value Programmer\n",
      "{'xyz': 'Programmer'}\n"
     ]
    }
   ],
   "source": [
    "dict = {}\n",
    "keyinput = input(\"Enter Key \")\n",
    "valueinput = input(\"Enter Value \")\n",
    "dict.update({keyinput:valueinput})\n",
    "\n",
    "print(dict)"
   ]
  },
  {
   "cell_type": "markdown",
   "metadata": {},
   "source": [
    "# Q 4"
   ]
  },
  {
   "cell_type": "code",
   "execution_count": 45,
   "metadata": {},
   "outputs": [
    {
     "name": "stdout",
     "output_type": "stream",
     "text": [
      "Sum of all numeric items a dictionary is Sum : 140\n"
     ]
    }
   ],
   "source": [
    "# Function to print Sum\n",
    "def returnSum(mydict): \n",
    "      \n",
    "    sum = 0\n",
    "    for i in mydict: \n",
    "        sum = sum + mydict[i] \n",
    "      \n",
    "    return sum\n",
    "  \n",
    "# Driver Function \n",
    "dict = {'a': 20, 'b':40, 'c':80} \n",
    "print(\"Sum of all numeric items a dictionary is Sum :\", returnSum(dict)) "
   ]
  },
  {
   "cell_type": "markdown",
   "metadata": {},
   "source": [
    "# Q 5"
   ]
  },
  {
   "cell_type": "code",
   "execution_count": 67,
   "metadata": {},
   "outputs": [
    {
     "name": "stdout",
     "output_type": "stream",
     "text": [
      "Repeted item in list are  [2, 3, 4]\n"
     ]
    }
   ],
   "source": [
    "arr = [1,2,2,3,3,4,4,6,7,5,8,9,10]\n",
    "list_range = len(arr)\n",
    "repeated = []\n",
    "for i in range (list_range):\n",
    "    a = i + 1\n",
    "    for b in range(a, list_range):\n",
    "        if arr[i] == arr[b] and arr[i] not in repeated:\n",
    "            repeated.append(arr[i])\n",
    "print(\"Repeted item in list are \" , repeated)"
   ]
  },
  {
   "cell_type": "markdown",
   "metadata": {},
   "source": [
    "# Q 6"
   ]
  },
  {
   "cell_type": "code",
   "execution_count": 72,
   "metadata": {},
   "outputs": [
    {
     "name": "stdout",
     "output_type": "stream",
     "text": [
      "Enter Key Name Check if exist or notnumber1\n",
      "Given Key exist\n"
     ]
    }
   ],
   "source": [
    "\n",
    "dic = {\n",
    "    'number1' : 12,\n",
    "    'number2' : 15,\n",
    "    'string':'Name',\n",
    "    'char':'a',\n",
    "    'number3' : 17,\n",
    "    'number4':21,\n",
    "}\n",
    "check_key = input(\"Enter Key Name Check if exist or not\")\n",
    "flag = False\n",
    "for i in dic.keys():\n",
    "    if i == check_key:\n",
    "        flag = True\n",
    "        break\n",
    "\n",
    "if flag:\n",
    "    print(\"Given Key exist\")\n",
    "else:\n",
    "    print(\"Given Key dose not exist\")"
   ]
  },
  {
   "cell_type": "code",
   "execution_count": null,
   "metadata": {},
   "outputs": [],
   "source": []
  },
  {
   "cell_type": "code",
   "execution_count": null,
   "metadata": {},
   "outputs": [],
   "source": []
  }
 ],
 "metadata": {
  "kernelspec": {
   "display_name": "Python 3",
   "language": "python",
   "name": "python3"
  },
  "language_info": {
   "codemirror_mode": {
    "name": "ipython",
    "version": 3
   },
   "file_extension": ".py",
   "mimetype": "text/x-python",
   "name": "python",
   "nbconvert_exporter": "python",
   "pygments_lexer": "ipython3",
   "version": "3.7.3"
  }
 },
 "nbformat": 4,
 "nbformat_minor": 2
}
